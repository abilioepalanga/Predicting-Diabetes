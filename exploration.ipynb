{
 "cells": [
  {
   "cell_type": "markdown",
   "metadata": {},
   "source": [
    "About this file\n",
    "This dataset describes the medical records for Pima Indians\n",
    "and whether or not each patient will have an onset of diabetes within \fve years.\n",
    "\n",
    "Fields description follow:\n",
    "\n",
    "preg = Number of times pregnant\n",
    "\n",
    "plas = Plasma glucose concentration a 2 hours in an oral glucose tolerance test\n",
    "\n",
    "pres = Diastolic blood pressure (mm Hg)\n",
    "\n",
    "skin = Triceps skin fold thickness (mm)\n",
    "\n",
    "test = 2-Hour serum insulin (mu U/ml)\n",
    "\n",
    "mass = Body mass index (weight in kg/(height in m)^2)\n",
    "\n",
    "pedi = Diabetes pedigree function\n",
    "\n",
    "age = Age (years)\n",
    "\n",
    "class = Class variable (1:tested positive for diabetes, 0: tested negative for diabetes)\n"
   ]
  },
  {
   "cell_type": "code",
   "execution_count": 7,
   "metadata": {},
   "outputs": [],
   "source": [
    "import pandas as pd\n",
    "\n",
    "colnames=['preg', 'plas', 'pres', 'skin', 'test', 'mass', 'pedi', 'age','class']\n",
    "df = pd.read_csv('Data/pima-indians-diabetes.csv', names=colnames)\n"
   ]
  },
  {
   "cell_type": "code",
   "execution_count": 8,
   "metadata": {},
   "outputs": [
    {
     "data": {
      "text/html": [
       "<div>\n",
       "<style scoped>\n",
       "    .dataframe tbody tr th:only-of-type {\n",
       "        vertical-align: middle;\n",
       "    }\n",
       "\n",
       "    .dataframe tbody tr th {\n",
       "        vertical-align: top;\n",
       "    }\n",
       "\n",
       "    .dataframe thead th {\n",
       "        text-align: right;\n",
       "    }\n",
       "</style>\n",
       "<table border=\"1\" class=\"dataframe\">\n",
       "  <thead>\n",
       "    <tr style=\"text-align: right;\">\n",
       "      <th></th>\n",
       "      <th>preg</th>\n",
       "      <th>plas</th>\n",
       "      <th>pres</th>\n",
       "      <th>skin</th>\n",
       "      <th>test</th>\n",
       "      <th>mass</th>\n",
       "      <th>pedi</th>\n",
       "      <th>age</th>\n",
       "      <th>class</th>\n",
       "    </tr>\n",
       "  </thead>\n",
       "  <tbody>\n",
       "    <tr>\n",
       "      <th>0</th>\n",
       "      <td>6</td>\n",
       "      <td>148</td>\n",
       "      <td>72</td>\n",
       "      <td>35</td>\n",
       "      <td>0</td>\n",
       "      <td>33.6</td>\n",
       "      <td>0.627</td>\n",
       "      <td>50</td>\n",
       "      <td>1</td>\n",
       "    </tr>\n",
       "    <tr>\n",
       "      <th>1</th>\n",
       "      <td>1</td>\n",
       "      <td>85</td>\n",
       "      <td>66</td>\n",
       "      <td>29</td>\n",
       "      <td>0</td>\n",
       "      <td>26.6</td>\n",
       "      <td>0.351</td>\n",
       "      <td>31</td>\n",
       "      <td>0</td>\n",
       "    </tr>\n",
       "    <tr>\n",
       "      <th>2</th>\n",
       "      <td>8</td>\n",
       "      <td>183</td>\n",
       "      <td>64</td>\n",
       "      <td>0</td>\n",
       "      <td>0</td>\n",
       "      <td>23.3</td>\n",
       "      <td>0.672</td>\n",
       "      <td>32</td>\n",
       "      <td>1</td>\n",
       "    </tr>\n",
       "    <tr>\n",
       "      <th>3</th>\n",
       "      <td>1</td>\n",
       "      <td>89</td>\n",
       "      <td>66</td>\n",
       "      <td>23</td>\n",
       "      <td>94</td>\n",
       "      <td>28.1</td>\n",
       "      <td>0.167</td>\n",
       "      <td>21</td>\n",
       "      <td>0</td>\n",
       "    </tr>\n",
       "    <tr>\n",
       "      <th>4</th>\n",
       "      <td>0</td>\n",
       "      <td>137</td>\n",
       "      <td>40</td>\n",
       "      <td>35</td>\n",
       "      <td>168</td>\n",
       "      <td>43.1</td>\n",
       "      <td>2.288</td>\n",
       "      <td>33</td>\n",
       "      <td>1</td>\n",
       "    </tr>\n",
       "  </tbody>\n",
       "</table>\n",
       "</div>"
      ],
      "text/plain": [
       "   preg  plas  pres  skin  test  mass   pedi  age  class\n",
       "0     6   148    72    35     0  33.6  0.627   50      1\n",
       "1     1    85    66    29     0  26.6  0.351   31      0\n",
       "2     8   183    64     0     0  23.3  0.672   32      1\n",
       "3     1    89    66    23    94  28.1  0.167   21      0\n",
       "4     0   137    40    35   168  43.1  2.288   33      1"
      ]
     },
     "execution_count": 8,
     "metadata": {},
     "output_type": "execute_result"
    }
   ],
   "source": [
    "df.head()"
   ]
  },
  {
   "cell_type": "markdown",
   "metadata": {},
   "source": [
    "Informação do DataSet\n"
   ]
  },
  {
   "cell_type": "code",
   "execution_count": 9,
   "metadata": {},
   "outputs": [
    {
     "name": "stdout",
     "output_type": "stream",
     "text": [
      "<class 'pandas.core.frame.DataFrame'>\n",
      "RangeIndex: 768 entries, 0 to 767\n",
      "Data columns (total 9 columns):\n",
      " #   Column  Non-Null Count  Dtype  \n",
      "---  ------  --------------  -----  \n",
      " 0   preg    768 non-null    int64  \n",
      " 1   plas    768 non-null    int64  \n",
      " 2   pres    768 non-null    int64  \n",
      " 3   skin    768 non-null    int64  \n",
      " 4   test    768 non-null    int64  \n",
      " 5   mass    768 non-null    float64\n",
      " 6   pedi    768 non-null    float64\n",
      " 7   age     768 non-null    int64  \n",
      " 8   class   768 non-null    int64  \n",
      "dtypes: float64(2), int64(7)\n",
      "memory usage: 54.1 KB\n"
     ]
    }
   ],
   "source": [
    "df.info()"
   ]
  },
  {
   "cell_type": "markdown",
   "metadata": {},
   "source": [
    "Temos 8 features (características) e uma classe (target)\n",
    "\n",
    "\n",
    "Vamos separar essas features do target\n"
   ]
  },
  {
   "cell_type": "code",
   "execution_count": 11,
   "metadata": {},
   "outputs": [
    {
     "name": "stdout",
     "output_type": "stream",
     "text": [
      "Tabela:  (768, 9)\n"
     ]
    }
   ],
   "source": [
    "#Remover valores duplicados do dataframe e mostrar o nome da tabela e a quantidade de linhas apagadas\n",
    "df.drop_duplicates(inplace=True)\n",
    "print(\"Tabela: \", df.shape)\n",
    "\n",
    "\n",
    "\n"
   ]
  },
  {
   "cell_type": "code",
   "execution_count": 12,
   "metadata": {},
   "outputs": [
    {
     "name": "stdout",
     "output_type": "stream",
     "text": [
      "Tabela:  (768, 9)\n"
     ]
    }
   ],
   "source": [
    "#Remover valores nulos do dataframe e mostrar o nome da tabela e a quantidade de linhas apagadas\n",
    "df.dropna(inplace=True)\n",
    "print(\"Tabela: \", df.shape)\n",
    "\n"
   ]
  },
  {
   "cell_type": "code",
   "execution_count": 13,
   "metadata": {},
   "outputs": [
    {
     "name": "stdout",
     "output_type": "stream",
     "text": [
      "preg     111\n",
      "plas       5\n",
      "pres      35\n",
      "skin     227\n",
      "test     374\n",
      "mass      11\n",
      "pedi       0\n",
      "age        0\n",
      "class    500\n",
      "dtype: int64\n"
     ]
    }
   ],
   "source": [
    "#Mostrar a quantidade de valores 0 em cada coluna\n",
    "print((df[['preg', 'plas', 'pres', 'skin', 'test', 'mass', 'pedi', 'age','class']] == 0).sum())"
   ]
  },
  {
   "cell_type": "code",
   "execution_count": 14,
   "metadata": {},
   "outputs": [
    {
     "name": "stdout",
     "output_type": "stream",
     "text": [
      "Outliers de preg\n",
      "88     15\n",
      "159    17\n",
      "298    14\n",
      "455    14\n",
      "Name: preg, dtype: int64\n",
      "\n",
      "\n",
      "Outliers de plas\n",
      "75     0\n",
      "182    0\n",
      "342    0\n",
      "349    0\n",
      "502    0\n",
      "Name: plas, dtype: int64\n",
      "\n",
      "\n",
      "Outliers de pres\n",
      "7        0\n",
      "15       0\n",
      "18      30\n",
      "43     110\n",
      "49       0\n",
      "60       0\n",
      "78       0\n",
      "81       0\n",
      "84     108\n",
      "106    122\n",
      "125     30\n",
      "172      0\n",
      "177    110\n",
      "193      0\n",
      "222      0\n",
      "261      0\n",
      "266      0\n",
      "269      0\n",
      "300      0\n",
      "332      0\n",
      "336      0\n",
      "347      0\n",
      "357      0\n",
      "362    108\n",
      "426      0\n",
      "430      0\n",
      "435      0\n",
      "453      0\n",
      "468      0\n",
      "484      0\n",
      "494      0\n",
      "522      0\n",
      "533      0\n",
      "535      0\n",
      "549    110\n",
      "589      0\n",
      "597     24\n",
      "601      0\n",
      "604      0\n",
      "619      0\n",
      "643      0\n",
      "691    114\n",
      "697      0\n",
      "703      0\n",
      "706      0\n",
      "Name: pres, dtype: int64\n",
      "\n",
      "\n",
      "Outliers de skin\n",
      "579    99\n",
      "Name: skin, dtype: int64\n",
      "\n",
      "\n",
      "Outliers de test\n",
      "8      543\n",
      "13     846\n",
      "54     342\n",
      "111    495\n",
      "139    325\n",
      "153    485\n",
      "186    495\n",
      "220    478\n",
      "228    744\n",
      "231    370\n",
      "247    680\n",
      "248    402\n",
      "258    375\n",
      "286    545\n",
      "296    360\n",
      "360    325\n",
      "370    465\n",
      "375    325\n",
      "392    415\n",
      "409    579\n",
      "415    474\n",
      "480    328\n",
      "486    480\n",
      "519    326\n",
      "574    330\n",
      "584    600\n",
      "612    321\n",
      "645    440\n",
      "655    540\n",
      "695    480\n",
      "707    335\n",
      "710    387\n",
      "715    392\n",
      "753    510\n",
      "Name: test, dtype: int64\n",
      "\n",
      "\n",
      "Outliers de mass\n",
      "9       0.0\n",
      "49      0.0\n",
      "60      0.0\n",
      "81      0.0\n",
      "120    53.2\n",
      "125    55.0\n",
      "145     0.0\n",
      "177    67.1\n",
      "193    52.3\n",
      "247    52.3\n",
      "303    52.9\n",
      "371     0.0\n",
      "426     0.0\n",
      "445    59.4\n",
      "494     0.0\n",
      "522     0.0\n",
      "673    57.3\n",
      "684     0.0\n",
      "706     0.0\n",
      "Name: mass, dtype: float64\n",
      "\n",
      "\n",
      "Outliers de pedi\n",
      "4      2.288\n",
      "12     1.441\n",
      "39     1.390\n",
      "45     1.893\n",
      "58     1.781\n",
      "100    1.222\n",
      "147    1.400\n",
      "187    1.321\n",
      "218    1.224\n",
      "228    2.329\n",
      "243    1.318\n",
      "245    1.213\n",
      "259    1.353\n",
      "292    1.224\n",
      "308    1.391\n",
      "330    1.476\n",
      "370    2.137\n",
      "371    1.731\n",
      "383    1.268\n",
      "395    1.600\n",
      "445    2.420\n",
      "534    1.251\n",
      "593    1.699\n",
      "606    1.258\n",
      "618    1.282\n",
      "621    1.698\n",
      "622    1.461\n",
      "659    1.292\n",
      "661    1.394\n",
      "Name: pedi, dtype: float64\n",
      "\n",
      "\n",
      "Outliers de age\n",
      "123    69\n",
      "363    67\n",
      "453    72\n",
      "459    81\n",
      "489    67\n",
      "537    67\n",
      "666    70\n",
      "674    68\n",
      "684    69\n",
      "Name: age, dtype: int64\n",
      "\n",
      "\n"
     ]
    }
   ],
   "source": [
    "# Encontra e imprime os outliers \n",
    "for col in df.columns:\n",
    "    if col != 'class':\n",
    "        q1 = df[col].quantile(0.25)\n",
    "        q3 = df[col].quantile(0.75)\n",
    "        iqr = q3 - q1\n",
    "        lower_bound  = q1 - (1.5 * iqr)\n",
    "        upper_bound = q3 + (1.5 * iqr)\n",
    "        print('Outliers de', col)\n",
    "        print(df.loc[(df[col] < lower_bound) | (df[col] > upper_bound)][col])\n",
    "        print('\\n')"
   ]
  },
  {
   "cell_type": "code",
   "execution_count": 15,
   "metadata": {},
   "outputs": [
    {
     "data": {
      "image/png": "[encoded data removed]",
      "text/plain": [
       "<Figure size 640x480 with 1 Axes>"
      ]
     },
     "metadata": {},
     "output_type": "display_data"
    },
    {
     "data": {
      "image/png": "[encoded data removed]",
      "text/plain": [
       "<Figure size 640x480 with 1 Axes>"
      ]
     },
     "metadata": {},
     "output_type": "display_data"
    },
    {
     "data": {
      "image/png": "[encoded data removed]",
      "text/plain": [
       "<Figure size 640x480 with 1 Axes>"
      ]
     },
     "metadata": {},
     "output_type": "display_data"
    },
    {
     "data": {
      "image/png": "[encoded data removed]",
      "text/plain": [
       "<Figure size 640x480 with 1 Axes>"
      ]
     },
     "metadata": {},
     "output_type": "display_data"
    },
    {
     "data": {
      "image/png": "[encoded data removed]",
      "text/plain": [
       "<Figure size 640x480 with 1 Axes>"
      ]
     },
     "metadata": {},
     "output_type": "display_data"
    },
    {
     "data": {
      "image/png": "[encoded data removed]",
      "text/plain": [
       "<Figure size 640x480 with 1 Axes>"
      ]
     },
     "metadata": {},
     "output_type": "display_data"
    },
    {
     "data": {
      "image/png": "[encoded data removed]",
      "text/plain": [
       "<Figure size 640x480 with 1 Axes>"
      ]
     },
     "metadata": {},
     "output_type": "display_data"
    },
    {
     "data": {
      "image/png": "[encoded data removed]",
      "text/plain": [
       "<Figure size 640x480 with 1 Axes>"
      ]
     },
     "metadata": {},
     "output_type": "display_data"
    }
   ],
   "source": [
    "#Visualizar graficamente os outliers\n",
    "import matplotlib.pyplot as plt\n",
    "\n",
    "for col in df.columns:\n",
    "    if col != 'class':\n",
    "        df.boxplot(column=col)\n",
    "        plt.show()\n",
    "\n",
    "        "
   ]
  },
  {
   "cell_type": "code",
   "execution_count": 16,
   "metadata": {},
   "outputs": [],
   "source": [
    "#Copiar todos atributos excepto a coluna class que é o target\n",
    "x= df.drop('class', axis=1)\n",
    "\n",
    "#Copiar apenas o atributo class que é o target\n",
    "y= df['class']"
   ]
  },
  {
   "cell_type": "markdown",
   "metadata": {},
   "source": [
    "#Vamos Selecionar as melhores features\n",
    "\n",
    "\n",
    "f_classif é o melhor a selecionarmos, pois as nossas features são numéricas e o nosso alvo é categorica "
   ]
  },
  {
   "cell_type": "code",
   "execution_count": 17,
   "metadata": {},
   "outputs": [],
   "source": [
    "#f_classif é um método de seleção de features que calcula a ANOVA F-value para as features.\n",
    "from sklearn.feature_selection import SelectKBest\n",
    "from sklearn.feature_selection import f_classif\n",
    "\n",
    "#Selecionar as 4 melhores features\n",
    "bestfeatures = SelectKBest(score_func=f_classif, k=4)"
   ]
  },
  {
   "cell_type": "code",
   "execution_count": 18,
   "metadata": {},
   "outputs": [],
   "source": [
    "#Aplicar a seleção de features\n",
    "fit = bestfeatures.fit(x,y)"
   ]
  },
  {
   "cell_type": "code",
   "execution_count": 22,
   "metadata": {},
   "outputs": [],
   "source": [
    "#Mostrar os scores das features\n",
    "dfscores = pd.DataFrame(fit.scores_)\n",
    "dfcolumns = pd.DataFrame(x.columns)\n",
    "\n",
    "#Concatenar os scores com os nomes das features\n",
    "featureScores = pd.concat([dfcolumns,dfscores],axis=1)\n",
    "\n",
    "#Nomear as colunas\n",
    "featureScores.columns = ['Nome','Pontuações']\n",
    "\n",
    "\n",
    "\n"
   ]
  },
  {
   "cell_type": "code",
   "execution_count": 26,
   "metadata": {},
   "outputs": [
    {
     "name": "stdout",
     "output_type": "stream",
     "text": [
      "   Nome  Pontuações\n",
      "1  plas  213.161752\n",
      "5  mass   71.772072\n",
      "7   age   46.140611\n",
      "0  preg   39.670227\n"
     ]
    }
   ],
   "source": [
    "#Mostrar as 4 melhores features\n",
    "print(featureScores.nlargest(4,'Pontuações'))\n",
    "\n"
   ]
  },
  {
   "cell_type": "code",
   "execution_count": 25,
   "metadata": {},
   "outputs": [
    {
     "name": "stdout",
     "output_type": "stream",
     "text": [
      "   Nome  Pontuações\n",
      "2  pres    3.256950\n",
      "3  skin    4.304381\n",
      "4  test   13.281108\n",
      "6  pedi   23.871300\n"
     ]
    }
   ],
   "source": [
    "#Mostrar as 4 piores features\n",
    "print(featureScores.nsmallest(4,'Pontuações'))"
   ]
  }
 ],
 "metadata": {
  "kernelspec": {
   "display_name": "Python 3",
   "language": "python",
   "name": "python3"
  },
  "language_info": {
   "codemirror_mode": {
    "name": "ipython",
    "version": 3
   },
   "file_extension": ".py",
   "mimetype": "text/x-python",
   "name": "python",
   "nbconvert_exporter": "python",
   "pygments_lexer": "ipython3",
   "version": "3.12.0"
  }
 },
 "nbformat": 4,
 "nbformat_minor": 2
}
